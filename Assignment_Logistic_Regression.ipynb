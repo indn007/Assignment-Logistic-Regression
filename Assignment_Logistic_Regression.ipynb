{
  "nbformat": 4,
  "nbformat_minor": 0,
  "metadata": {
    "colab": {
      "provenance": []
    },
    "kernelspec": {
      "name": "python3",
      "display_name": "Python 3"
    },
    "language_info": {
      "name": "python"
    }
  },
  "cells": [
    {
      "cell_type": "markdown",
      "source": [
        "# **Assignment Questions**"
      ],
      "metadata": {
        "id": "vOc86PqYgwVG"
      }
    },
    {
      "cell_type": "markdown",
      "source": [
        "# **Theoretical**"
      ],
      "metadata": {
        "id": "OujIUV1XfkVN"
      }
    },
    {
      "cell_type": "markdown",
      "source": [
        "###**Q1. What is Logistic Regression, and how does it differ from Linear Regression?**"
      ],
      "metadata": {
        "id": "NXLwmiKqfkVS"
      }
    },
    {
      "cell_type": "markdown",
      "source": [
        "\n",
        "-  Linear Regression predicts continuous values (e.g., price, temperature).  \n",
        "-  Logistic Regression predicts probabilities for classification (e.g., spam or not).  \n",
        "-  Linear uses a straight-line equation; Logistic uses a sigmoid function.  \n",
        "-  Linear output ranges from \\(-\\infty\\) to \\(+\\infty\\); Logistic ranges from 0 to 1.  \n",
        "- Linear minimizes Mean Squared Error; Logistic uses Cross-Entropy Loss.  \n",
        "-  Logistic sets a threshold (like 0.5) to classify outputs as 0 or 1.  \n",
        "\n"
      ],
      "metadata": {
        "id": "JZ62IiHOfkVS"
      }
    },
    {
      "cell_type": "markdown",
      "source": [
        "###**Q2. What is the mathematical equation of Logistic Regression?**"
      ],
      "metadata": {
        "id": "ZFY2bmVGfkVT"
      }
    },
    {
      "cell_type": "markdown",
      "source": [
        "The mathematical equation of **Logistic Regression** models the probability that a given input belongs to a particular class (typically class 1). Here's\n",
        "\n",
        "---\n",
        "\n",
        "### Logistic Regression Equation\n",
        "\n",
        "\\[\n",
        "P(y = 1 \\mid \\mathbf{x}) = \\sigma(z) = \\frac{1}{1 + e^{-z}}\n",
        "\\]\n",
        "Where:\n",
        "- \\( \\sigma(z) \\) is the **sigmoid function**\n",
        "- \\( z = \\beta_0 + \\beta_1x_1 + \\beta_2x_2 + \\dots + \\beta_nx_n \\)\n",
        "- \\( \\mathbf{x} = (x_1, x_2, \\dots, x_n) \\) are the input features\n",
        "- \\( \\beta_0 \\) is the intercept (bias), and \\( \\beta_i \\) are the model coefficients\n",
        "\n",
        "---\n",
        "\n",
        "### Interpretation\n",
        "\n",
        "- The output \\( P(y = 1 \\mid \\mathbf{x}) \\) is the **probability** that the input belongs to class 1.\n",
        "- To classify, we typically use a **threshold** (e.g., if \\( P > 0.5 \\), predict class 1; else class 0).\n"
      ],
      "metadata": {
        "id": "NPZwxwcnfkVT"
      }
    },
    {
      "cell_type": "markdown",
      "source": [
        "###**Q3. Why do we use the Sigmoid function in Logistic Regression?**"
      ],
      "metadata": {
        "id": "Y03nios9fkVT"
      }
    },
    {
      "cell_type": "markdown",
      "source": [
        "We use the sigmoid function in logistic regression because:\n",
        "\n",
        "- It converts any real number into a value between 0 and 1, representing probability  \n",
        "- It allows us to classify outputs using a threshold (typically 0.5)  \n",
        "- It transforms a linear equation into a non-linear probability curve  \n",
        "- It is smooth and differentiable, making it suitable for optimization using gradient descent  \n",
        "\n",
        "\n"
      ],
      "metadata": {
        "id": "vnqhoWp9PB6H"
      }
    },
    {
      "cell_type": "markdown",
      "source": [
        "###**Q4. What is the cost function of Logistic Regression?**"
      ],
      "metadata": {
        "id": "NlU72YrhfkVT"
      }
    },
    {
      "cell_type": "markdown",
      "source": [
        "-- Cost Function of Logistic Regression:\n",
        "\n",
        "In **Machine Learning**, the **cost function** for **Logistic Regression** is based on **binary cross-entropy (log loss)**:\n",
        "\n",
        "$$\n",
        "J(\\theta) = -\\frac{1}{m} \\sum_{i=1}^{m} \\Big[ y^{(i)} \\log(h_\\theta(x^{(i)})) + (1 - y^{(i)}) \\log(1 - h_\\theta(x^{(i)})) \\Big]\n",
        "$$\n",
        "\n",
        "---\n",
        "\n",
        "--For a Single Training Example:\n",
        "\n",
        "$$\n",
        "\\text{Cost}(p, y) = - \\left[ y \\cdot \\log(p) + (1 - y) \\cdot \\log(1 - p) \\right]\n",
        "$$\n",
        "\n",
        "Where:\n",
        "\n",
        "* $y$ = actual label (0 or 1)\n",
        "* $p = h_\\theta(x)$ = predicted probability using the **sigmoid function**:\n",
        "\n",
        "  $$\n",
        "  h_\\theta(x) = \\frac{1}{1 + e^{-\\theta^T x}}\n",
        "  $$\n",
        "\n",
        "---\n",
        "\n",
        "-- Goal:\n",
        "\n",
        "Minimize this cost function by adjusting parameters $\\theta$ using algorithms like **gradient descent**, so predictions get closer to actual labels.\n"
      ],
      "metadata": {
        "id": "r6ZV_jvISLaP"
      }
    },
    {
      "cell_type": "markdown",
      "source": [
        "###**Q5. What is Regularization in Logistic Regression? Why is it needed?**"
      ],
      "metadata": {
        "id": "rlO6pQZofkVT"
      }
    },
    {
      "cell_type": "markdown",
      "source": [
        "\n",
        "\n",
        "**Regularization** in Logistic Regression is a technique to **prevent overfitting** by adding a **penalty** to the cost function when model parameters become too large.\n",
        "\n",
        "---\n",
        "\n",
        "-- Modified Cost Function (with L2 Regularization):\n",
        "\n",
        "$$\n",
        "J(\\theta) = \\text{Original Cost} + \\frac{\\lambda}{2m} \\sum \\theta_j^2\n",
        "$$\n",
        "\n",
        "---\n",
        "\n",
        "-- Why It Is Needed:\n",
        "\n",
        "* Prevents the model from fitting noise in the training data\n",
        "* Controls complexity by discouraging large weights\n",
        "* Improves performance on unseen (test) data\n",
        "\n",
        "---\n",
        "\n",
        "**Result:** A more general, stable, and accurate model.\n"
      ],
      "metadata": {
        "id": "M1Pr2_SISs4I"
      }
    },
    {
      "cell_type": "markdown",
      "source": [
        "###**Q6. Explain the difference between Lasso, Ridge, and Elastic Net regression?**"
      ],
      "metadata": {
        "id": "dYUTG3EwfkVU"
      }
    },
    {
      "cell_type": "markdown",
      "source": [
        "**-Difference Between Lasso, Ridge, and Elastic Net Regression:-**\n",
        "\n",
        "These are regularization techniques used to reduce overfitting by adding penalty terms to the loss function in regression models.\n",
        "\n",
        "---\n",
        "\n",
        "1. **Ridge Regression (L2 Regularization)**\n",
        "\n",
        "* **Adds squared coefficients** to the loss function:\n",
        "\n",
        "  $$\n",
        "  \\frac{\\lambda}{2m} \\sum \\theta_j^2\n",
        "  $$\n",
        "* **Effect:** Shrinks all coefficients but **does not reduce any to zero**\n",
        "* **Use case:** Useful when most features are relevant and multicollinearity exists\n",
        "\n",
        "---\n",
        "\n",
        "2. **Lasso Regression (L1 Regularization)**\n",
        "\n",
        "* **Adds absolute values of coefficients** to the loss function:\n",
        "\n",
        "  $$\n",
        "  \\frac{\\lambda}{m} \\sum |\\theta_j|\n",
        "  $$\n",
        "* **Effect:** Can shrink some coefficients **exactly to zero**\n",
        "* **Use case:** Effective for **feature selection** in models with many irrelevant features\n",
        "\n",
        "---\n",
        "\n",
        "3. **Elastic Net Regression**\n",
        "\n",
        "* **Combines both L1 and L2 penalties**:\n",
        "\n",
        "  $$\n",
        "  \\lambda \\left[ \\alpha \\sum |\\theta_j| + (1 - \\alpha) \\sum \\theta_j^2 \\right]\n",
        "  $$\n",
        "* **Effect:** Mix of shrinking and zeroing out coefficients\n",
        "* **Use case:** When you want the benefits of both Ridge (stability) and Lasso (sparsity)\n",
        "\n",
        "---\n",
        "\n"
      ],
      "metadata": {
        "id": "lKnuIcnCS_TR"
      }
    },
    {
      "cell_type": "markdown",
      "source": [
        "###**Q7. When should we use Elastic Net instead of Lasso or Ridge?**"
      ],
      "metadata": {
        "id": "Y7xt-J4zfkVU"
      }
    },
    {
      "cell_type": "markdown",
      "source": [
        "When to Use **Elastic Net** Instead of **Lasso** or **Ridge**:\n",
        "\n",
        "Use **Elastic Net** when:\n",
        "\n",
        "---\n",
        "\n",
        "1. **There are many features**, and **some are highly correlated**\n",
        "\n",
        "   * Lasso tends to pick just one feature from a group of correlated ones and ignore the rest\n",
        "   * Elastic Net can keep multiple correlated features by blending L1 and L2\n",
        "\n",
        "---\n",
        "\n",
        "2. **You expect only some features to be important**, but not as few as Lasso would select\n",
        "\n",
        "   * Lasso may remove too many features\n",
        "   * Elastic Net allows some sparsity, but not too aggressive\n",
        "\n",
        "---\n",
        "\n",
        "3. **Lasso is unstable on your dataset**\n",
        "\n",
        "   * If Lasso's feature selection changes a lot with small data changes, Elastic Net offers more stability due to the L2 component\n",
        "\n",
        "---\n",
        "\n",
        "4. **You want both regularization and feature selection**\n",
        "\n",
        "   * Ridge: good for regularization\n",
        "   * Lasso: good for feature selection\n",
        "   * Elastic Net: combines both, gives you control using the $\\alpha$ parameter (balance between L1 and L2)\n",
        "\n",
        "---\n",
        "\n"
      ],
      "metadata": {
        "id": "R-OKfe3wTQXo"
      }
    },
    {
      "cell_type": "markdown",
      "source": [
        "###**Q8. What is the impact of the regularization parameter (λ) in Logistic Regression?**"
      ],
      "metadata": {
        "id": "q9bvdzDhfkVU"
      }
    },
    {
      "cell_type": "markdown",
      "source": [
        "--Impact of the Regularization Parameter $\\lambda$ in Logistic Regression:\n",
        "\n",
        "The parameter $\\lambda$ controls the **strength of regularization** in the cost function.\n",
        "\n",
        "---\n",
        "\n",
        "1. **When $\\lambda$ is Small (≈ 0):**\n",
        "\n",
        "* Very **little regularization**\n",
        "* Model tries to **fit training data as closely as possible**\n",
        "* **High risk of overfitting**\n",
        "\n",
        "---\n",
        "\n",
        "2. **When $\\lambda$ is Large:**\n",
        "\n",
        "* **Strong regularization** effect\n",
        "* Coefficients $\\theta$ are **heavily penalized** (shrunk)\n",
        "* Model becomes **simpler**\n",
        "* May cause **underfitting**, missing important patterns\n",
        "\n",
        "---\n",
        "\n",
        "3. **Optimal $\\lambda$:**\n",
        "\n",
        "* **Balances bias and variance**\n",
        "* Found using techniques like **cross-validation**\n",
        "\n",
        "---\n",
        "\n",
        "Summary:\n",
        "\n",
        "* **Small $\\lambda$:** low bias, high variance (risk of overfitting)\n",
        "* **Large $\\lambda$:** high bias, low variance (risk of underfitting)\n",
        "* **Ideal $\\lambda$:** gives the best generalization on unseen data\n",
        "\n"
      ],
      "metadata": {
        "id": "MjQq9TxAY31A"
      }
    },
    {
      "cell_type": "markdown",
      "source": [
        "###**Q9. What are the key assumptions of Logistic Regression?**"
      ],
      "metadata": {
        "id": "70cqVEPjfkVU"
      }
    },
    {
      "cell_type": "markdown",
      "source": [
        "Key Assumptions of Logistic Regression :\n",
        "\n",
        "1. **Binary Output**: Dependent variable must be 0 or 1\n",
        "2. **Independent Observations**: No duplicate or related data points\n",
        "3. **Linearity of Log-Odds**: Logit (not probability) is linearly related to predictors\n",
        "4. **No Multicollinearity**: Predictors shouldn’t be highly correlated\n",
        "5. **Large Sample Size**: Works better with more data\n",
        "6. **No Extreme Outliers**: Outliers can distort results\n",
        "\n",
        "These ensure reliable and interpretable logistic regression results.\n"
      ],
      "metadata": {
        "id": "GBEEGI7xZIr9"
      }
    },
    {
      "cell_type": "markdown",
      "source": [
        "###**Q10. What are some alternatives to Logistic Regression for classification tasks?**"
      ],
      "metadata": {
        "id": "jmomaZFcfkVV"
      }
    },
    {
      "cell_type": "markdown",
      "source": [
        "Alternatives to Logistic Regression :\n",
        "\n",
        "1. **Decision Trees** – Easy to interpret, handles non-linear data\n",
        "2. **Random Forest** – Ensemble of trees, more accurate\n",
        "3. **SVM** – Good for high-dimensional and non-linear data\n",
        "4. **k-NN** – Simple, no training, slow on large data\n",
        "5. **Naive Bayes** – Fast, good for text, assumes independence\n",
        "6. **Gradient Boosting (XGBoost)** – High accuracy, needs tuning\n",
        "7. **Neural Networks** – Best for complex, large data sets\n",
        "\n"
      ],
      "metadata": {
        "id": "9x2WL8opZZTK"
      }
    },
    {
      "cell_type": "markdown",
      "source": [
        "###**Q11. What are Classification Evaluation Metrics?**"
      ],
      "metadata": {
        "id": "FQrVB84DfkVV"
      }
    },
    {
      "cell_type": "markdown",
      "source": [
        "---Classification Evaluation Metrics :\n",
        "\n",
        "1. **Accuracy**\n",
        "\n",
        "   * Proportion of correct predictions:\n",
        "\n",
        "     $$\n",
        "     \\frac{TP + TN}{TP + TN + FP + FN}\n",
        "     $$\n",
        "\n",
        "2. **Precision**\n",
        "\n",
        "   * Correct positive predictions out of total predicted positives:\n",
        "\n",
        "     $$\n",
        "     \\frac{TP}{TP + FP}\n",
        "     $$\n",
        "\n",
        "3. **Recall (Sensitivity / TPR)**\n",
        "\n",
        "   * Correct positive predictions out of actual positives:\n",
        "\n",
        "     $$\n",
        "     \\frac{TP}{TP + FN}\n",
        "     $$\n",
        "\n",
        "4. **F1-Score**\n",
        "\n",
        "   * Harmonic mean of precision and recall:\n",
        "\n",
        "     $$\n",
        "     2 \\cdot \\frac{\\text{Precision} \\cdot \\text{Recall}}{\\text{Precision} + \\text{Recall}}\n",
        "     $$\n",
        "\n",
        "5. **ROC-AUC Score**\n",
        "\n",
        "   * Measures model's ability to distinguish classes (area under ROC curve)\n",
        "\n",
        "6. **Confusion Matrix**\n",
        "\n",
        "   * Table showing TP, FP, TN, FN counts\n",
        "\n",
        "---\n",
        "\n"
      ],
      "metadata": {
        "id": "aJKyNr4ScBJB"
      }
    },
    {
      "cell_type": "markdown",
      "source": [
        "###**Q12. How does class imbalance affect Logistic Regression?**"
      ],
      "metadata": {
        "id": "qQWvj7kbfkVV"
      }
    },
    {
      "cell_type": "markdown",
      "source": [
        "----**Impact of Class Imbalance on Logistic Regression :**-----\n",
        "\n",
        "1. **Biased Predictions**\n",
        "\n",
        "   * The model may predict the **majority class** most of the time, ignoring the minority.\n",
        "\n",
        "2. **Misleading Accuracy**\n",
        "\n",
        "   * High accuracy may be meaningless if the model just predicts the majority class.\n",
        "\n",
        "3. **Poor Recall for Minority Class**\n",
        "\n",
        "   * The model may **miss most positive cases**, especially in rare-event detection.\n",
        "\n",
        "4. **Poor Model Generalization**\n",
        "\n",
        "   * Learns patterns mostly from the dominant class, leading to **weak minority detection**.\n",
        "\n",
        "---\n",
        "\n",
        "--Solutions:\n",
        "\n",
        "* Use **resampling techniques** (oversampling, undersampling)\n",
        "* Apply **class weights** to penalize mistakes on the minority class\n",
        "* Evaluate using **precision, recall, F1-score**, not just accuracy\n",
        "\n"
      ],
      "metadata": {
        "id": "V-H32ukJcTgF"
      }
    },
    {
      "cell_type": "markdown",
      "source": [
        "###**Q13. What is Hyperparameter Tuning in Logistic Regression?**"
      ],
      "metadata": {
        "id": "1mjuqwsYfkVW"
      }
    },
    {
      "cell_type": "markdown",
      "source": [
        "-- Hyperparameter Tuning in Logistic Regression :\n",
        "\n",
        "**Hyperparameter tuning** is the process of selecting the best settings that control how the Logistic Regression model learns.\n",
        "\n",
        "---\n",
        "\n",
        "-- Common Hyperparameters:\n",
        "\n",
        "1. **Regularization strength ($C$)**\n",
        "\n",
        "   * Inverse of regularization parameter $\\lambda$:\n",
        "     Smaller $C$ → stronger regularization\n",
        "\n",
        "2. **Penalty type**\n",
        "\n",
        "   * `'l1'`, `'l2'`, or `'elasticnet'`\n",
        "   * Controls type of regularization\n",
        "\n",
        "3. **Solver**\n",
        "\n",
        "   * Optimization algorithm (e.g., `'liblinear'`, `'saga'`, `'newton-cg'`)\n",
        "   * Some solvers only support specific penalties\n",
        "\n"
      ],
      "metadata": {
        "id": "gIYaijbccku6"
      }
    },
    {
      "cell_type": "markdown",
      "source": [
        "###**Q14. What are different solvers in Logistic Regression? Which one should be used?**"
      ],
      "metadata": {
        "id": "F5azWRKDfkVW"
      }
    },
    {
      "cell_type": "markdown",
      "source": [
        "---- Solvers in Logistic Regression :\n",
        "\n",
        "Solvers are optimization algorithms used to fit the model by minimizing the cost function.\n",
        "\n",
        "---\n",
        "\n",
        "--- Common Solvers:\n",
        "\n",
        "1. **liblinear**\n",
        "\n",
        "   * Good for small datasets\n",
        "   * Supports **L1 and L2 penalties**\n",
        "   * Works only for **binary classification**\n",
        "\n",
        "2. **lbfgs**\n",
        "\n",
        "   * Fast and accurate for **L2 penalty**\n",
        "   * Suitable for **multiclass** problems\n",
        "   * Preferred for **medium to large datasets**\n",
        "\n",
        "3. **newton-cg**\n",
        "\n",
        "   * Supports **L2 penalty**\n",
        "   * Better for multiclass, **sparse features**, and large datasets\n",
        "\n",
        "4. **sag (Stochastic Average Gradient)**\n",
        "\n",
        "   * Efficient for **large datasets**\n",
        "   * Works with **L2 penalty only**\n",
        "\n",
        "5. **saga**\n",
        "\n",
        "   * Handles **L1, L2, and elastic net**\n",
        "   * Works for **large-scale and sparse data**\n",
        "   * Suitable for both **binary and multiclass**\n",
        "\n",
        "\n"
      ],
      "metadata": {
        "id": "GPOuhdopcyh_"
      }
    },
    {
      "cell_type": "markdown",
      "source": [
        "###**Q15. How is Logistic Regression extended for multiclass classification?**"
      ],
      "metadata": {
        "id": "dcZxnxT5fkVW"
      }
    },
    {
      "cell_type": "markdown",
      "source": [
        "---Logistic Regression for Multiclass Classification :\n",
        "\n",
        "Logistic Regression is naturally binary, but it can be extended to **multiclass problems** using:\n",
        "\n",
        "---\n",
        "\n",
        "1. **One-vs-Rest (OvR) / One-vs-All**\n",
        "\n",
        "* Trains one classifier per class:\n",
        "  Each model distinguishes one class vs. all others\n",
        "* Final prediction: class with the highest probability\n",
        "* **Default method in scikit-learn**\n",
        "\n",
        "---\n",
        "\n",
        "2. **Multinomial Logistic Regression (Softmax Regression)**\n",
        "\n",
        "* Generalizes logistic regression using the **softmax function**\n",
        "* Trains a **single model** that handles all classes together\n",
        "* Preferred when classes are **mutually exclusive**\n",
        "* Use `solver='lbfgs'` or `solver='saga'` with `multi_class='multinomial'`\n",
        "\n",
        "---\n",
        "\n",
        " --- When to Use:\n",
        "\n",
        "* **OvR**: Simpler, works well when classes are imbalanced\n",
        "* **Multinomial**: Better for performance and probability calibration in balanced, multiclass tasks\n",
        "\n",
        "\n"
      ],
      "metadata": {
        "id": "2ocVi28kdJjC"
      }
    },
    {
      "cell_type": "markdown",
      "source": [
        "###**Q16. What are the advantages and disadvantages of Logistic Regression?**"
      ],
      "metadata": {
        "id": "83NOVYWUfkVW"
      }
    },
    {
      "cell_type": "markdown",
      "source": [
        "---Advantages and Disadvantages of Logistic Regression :\n",
        "\n",
        "---\n",
        "\n",
        "--**Advantages:**\n",
        "\n",
        "1. **Simple and Fast**\n",
        "\n",
        "   * Easy to implement, train, and interpret\n",
        "\n",
        "2. **Probabilistic Output**\n",
        "\n",
        "   * Gives class probabilities (not just labels)\n",
        "\n",
        "3. **Efficient for Linearly Separable Data**\n",
        "\n",
        "   * Performs well when classes are linearly separable\n",
        "\n",
        "4. **Works Well with Few Features**\n",
        "\n",
        "   * Effective even with small datasets\n",
        "\n",
        "5. **Regularization Support**\n",
        "\n",
        "   * Handles overfitting with L1/L2 regularization\n",
        "\n",
        "---\n",
        "\n",
        "---**Disadvantages:**\n",
        "\n",
        "1. **Assumes Linear Relationship (in log-odds)**\n",
        "\n",
        "   * Fails if the relationship is highly non-linear\n",
        "\n",
        "2. **Not Suitable for Complex Patterns**\n",
        "\n",
        "   * Performs poorly with high-dimensional, complex data\n",
        "\n",
        "3. **Sensitive to Outliers**\n",
        "\n",
        "   * Outliers can skew predictions\n",
        "\n",
        "4. **Struggles with Multicollinearity**\n",
        "\n",
        "   * Highly correlated inputs affect model stability\n",
        "\n",
        "5. **Limited to Binary/Multiclass Classification**\n",
        "\n",
        "   * Not for regression or ordinal classification\n",
        "\n",
        "\n"
      ],
      "metadata": {
        "id": "mKBCBgVlddZg"
      }
    },
    {
      "cell_type": "markdown",
      "source": [
        "###**Q17. What are some use cases of Logistic Regression?**"
      ],
      "metadata": {
        "id": "PH1E_Rz0fkVX"
      }
    },
    {
      "cell_type": "markdown",
      "source": [
        "--- Use Cases of Logistic Regression :\n",
        "\n",
        "1. **Email Spam Detection**\n",
        "\n",
        "   * Classify emails as spam or not spam (0 or 1)\n",
        "\n",
        "2. **Credit Scoring**\n",
        "\n",
        "   * Predict if a loan applicant will default or not\n",
        "\n",
        "3. **Medical Diagnosis**\n",
        "\n",
        "   * Determine if a patient has a disease (e.g., cancer detection)\n",
        "\n",
        "4. **Customer Churn Prediction**\n",
        "\n",
        "   * Predict whether a customer will leave a service\n",
        "\n",
        "5. **Marketing Campaign Response**\n",
        "\n",
        "   * Estimate the likelihood of a customer responding to an offer\n",
        "\n",
        "6. **Fraud Detection**\n",
        "\n",
        "   * Classify transactions as fraudulent or genuine\n",
        "\n",
        "7. **Image Classification (Simple Binary Cases)**\n",
        "\n",
        "   * e.g., distinguishing cats vs. dogs with simple features\n",
        "\n",
        "\n"
      ],
      "metadata": {
        "id": "vE_CqegXeQLE"
      }
    },
    {
      "cell_type": "markdown",
      "source": [
        "###**Q18. What is the difference between Softmax Regression and Logistic Regression?**"
      ],
      "metadata": {
        "id": "Qp9-rV-yfkVX"
      }
    },
    {
      "cell_type": "markdown",
      "source": [
        "----Difference Between Logistic Regression and Softmax Regression (Short):\n",
        "\n",
        "---\n",
        "\n",
        "1. **Logistic Regression**\n",
        "\n",
        "* **Used for**: **Binary classification** (2 classes)\n",
        "* **Output**: Probability of one class (the other is 1 - p)\n",
        "* **Activation**: Uses **sigmoid function**\n",
        "\n",
        "  $$\n",
        "  \\sigma(z) = \\frac{1}{1 + e^{-z}}\n",
        "  $$\n",
        "\n",
        "---\n",
        "\n",
        "2. **Softmax Regression (Multinomial Logistic Regression)**\n",
        "\n",
        "* **Used for**: **Multiclass classification** (3 or more classes)\n",
        "* **Output**: Probabilities for **all classes**, sum to 1\n",
        "* **Activation**: Uses **softmax function**\n",
        "\n",
        "  $$\n",
        "  P(y = k) = \\frac{e^{z_k}}{\\sum_{j} e^{z_j}}\n",
        "  $$\n",
        "\n",
        "---\n",
        "\n",
        "----Key Differences:\n",
        "\n",
        "| Feature             | Logistic Regression | Softmax Regression            |\n",
        "| ------------------- | ------------------- | ----------------------------- |\n",
        "| Classification Type | Binary (2 classes)  | Multiclass (3+ classes)       |\n",
        "| Output              | One probability     | Probabilities for all classes |\n",
        "| Function Used       | Sigmoid             | Softmax                       |\n",
        "\n",
        "\n"
      ],
      "metadata": {
        "id": "jU6Qq1CPelJz"
      }
    },
    {
      "cell_type": "markdown",
      "source": [
        "###**Q19. How do we choose between One-vs-Rest (OvR) and Softmax for multiclass classification?**"
      ],
      "metadata": {
        "id": "ouJGUX6KfkVX"
      }
    },
    {
      "cell_type": "markdown",
      "source": [
        "--- Choosing Between One-vs-Rest (OvR) and Softmax (Multinomial) for Multiclass Classification:\n",
        "\n",
        "---\n",
        "--- Use **Softmax (Multinomial Logistic Regression)** when:\n",
        "\n",
        "* Classes are **mutually exclusive**\n",
        "* You want **probabilities for all classes** at once\n",
        "* You need **better calibration and consistency**\n",
        "* Dataset is **balanced** and large\n",
        "* Preferred for **performance-focused models**\n",
        "\n",
        "---\n",
        "\n",
        "----Use **One-vs-Rest (OvR)** when:\n",
        "\n",
        "* You want a **simple, interpretable** approach\n",
        "* Your classes are **imbalanced**\n",
        "* You want to use **binary classifiers independently**\n",
        "* Easier to debug or modify per class\n",
        "\n",
        "---\n",
        "\n"
      ],
      "metadata": {
        "id": "d9hAvDxXezMu"
      }
    },
    {
      "cell_type": "markdown",
      "source": [
        "###**Q20. How do we interpret coefficients in Logistic Regression?**"
      ],
      "metadata": {
        "id": "evCtl9YnfkVX"
      }
    },
    {
      "cell_type": "markdown",
      "source": [
        "---- Interpreting Coefficients in Logistic Regression :\n",
        "\n",
        "In Logistic Regression, each coefficient $\\theta_j$ represents the **effect of one unit change in feature $x_j$** on the **log-odds** of the outcome.\n",
        "\n",
        "---\n",
        "\n",
        "1. **Log-Odds Interpretation:**\n",
        "\n",
        "$$\n",
        "\\log\\left(\\frac{p}{1 - p}\\right) = \\theta_0 + \\theta_1 x_1 + \\dots + \\theta_j x_j\n",
        "$$\n",
        "\n",
        "* A one-unit increase in $x_j$ changes the **log-odds** by $\\theta_j$\n",
        "\n",
        "---\n",
        "\n",
        "2. **Odds Ratio Interpretation:**\n",
        "\n",
        "$$\n",
        "\\text{Odds Ratio} = e^{\\theta_j}\n",
        "$$\n",
        "\n",
        "* $e^{\\theta_j} > 1$: Increase in $x_j$ **increases** odds of the event\n",
        "* $e^{\\theta_j} < 1$: Increase in $x_j$ **decreases** odds\n",
        "* $e^{\\theta_j} = 1$: No effect\n",
        "\n",
        "---\n",
        "\n",
        "### Example:\n",
        "\n",
        "If $\\theta_j = 0.7$, then\n",
        "\n",
        "$$\n",
        "e^{0.7} \\approx 2.01\n",
        "$$\n",
        "\n",
        "→ A one-unit increase in $x_j$ **doubles** the odds of the positive outcome.\n",
        "\n"
      ],
      "metadata": {
        "id": "IRBzB4a2fBwP"
      }
    },
    {
      "cell_type": "markdown",
      "source": [
        "# **Practical**"
      ],
      "metadata": {
        "id": "izwRut8ZjB0C"
      }
    },
    {
      "cell_type": "markdown",
      "source": [
        "**Q1. Write a Python program that loads a dataset, splits it into training and testing sets, applies Logistic Regression, and prints the model accuracy?**"
      ],
      "metadata": {
        "id": "UvRLdKyPjDur"
      }
    },
    {
      "cell_type": "code",
      "source": [
        "from sklearn.datasets import load_iris\n",
        "from sklearn.model_selection import train_test_split\n",
        "from sklearn.linear_model import LogisticRegression\n",
        "from sklearn.metrics import accuracy_score\n",
        "\n",
        "# Step 1: Load the dataset\n",
        "iris = load_iris()\n",
        "X = iris.data\n",
        "y = iris.target\n",
        "\n",
        "# Step 2: Split the dataset (80% train, 20% test)\n",
        "X_train, X_test, y_train, y_test = train_test_split(X, y, test_size=0.2, random_state=42)\n",
        "\n",
        "# Step 3: Train Logistic Regression model\n",
        "model = LogisticRegression(max_iter=200)\n",
        "model.fit(X_train, y_train)\n",
        "\n",
        "# Step 4: Make predictions\n",
        "y_pred = model.predict(X_test)\n",
        "\n",
        "# Step 5: Calculate and print accuracy\n",
        "accuracy = accuracy_score(y_test, y_pred)\n",
        "print(f\"Model Accuracy: {accuracy:.2f}\")"
      ],
      "metadata": {
        "id": "JlS75vq9MZlS",
        "outputId": "d298c327-4499-40ec-f117-c79e567e3b2b",
        "colab": {
          "base_uri": "https://localhost:8080/"
        }
      },
      "execution_count": null,
      "outputs": [
        {
          "output_type": "stream",
          "name": "stdout",
          "text": [
            "Model Accuracy: 1.00\n"
          ]
        }
      ]
    },
    {
      "cell_type": "markdown",
      "source": [
        "**Q2. Write a Python program to apply L1 regularization (Lasso) on a dataset using LogisticRegression(penalty='l1') and print the model accuracy?**"
      ],
      "metadata": {
        "id": "TNvlfHphjxGN"
      }
    },
    {
      "cell_type": "code",
      "source": [
        "from sklearn.datasets import load_iris\n",
        "from sklearn.model_selection import train_test_split\n",
        "from sklearn.linear_model import LogisticRegression\n",
        "from sklearn.metrics import accuracy_score\n",
        "\n",
        "# Step 1: Load the dataset\n",
        "iris = load_iris()\n",
        "X = iris.data\n",
        "y = iris.target\n",
        "\n",
        "# Step 2: Split into training and testing sets (80% train, 20% test)\n",
        "X_train, X_test, y_train, y_test = train_test_split(X, y, test_size=0.2, random_state=42)\n",
        "\n",
        "# Step 3: Train Logistic Regression with L1 regularization (Lasso)\n",
        "model = LogisticRegression(penalty='l1', solver='saga', max_iter=500, multi_class='multinomial')\n",
        "model.fit(X_train, y_train)\n",
        "\n",
        "# Step 4: Predict on test set\n",
        "y_pred = model.predict(X_test)\n",
        "\n",
        "# Step 5: Calculate and print accuracy\n",
        "accuracy = accuracy_score(y_test, y_pred)\n",
        "print(f\"Model Accuracy with L1 Regularization: {accuracy:.2f}\")"
      ],
      "metadata": {
        "colab": {
          "base_uri": "https://localhost:8080/"
        },
        "id": "gqDc7Sd3N2-m",
        "outputId": "f1a47d72-53a6-4bca-a5f8-69c4723f88fc"
      },
      "execution_count": null,
      "outputs": [
        {
          "output_type": "stream",
          "name": "stdout",
          "text": [
            "Model Accuracy with L1 Regularization: 1.00\n"
          ]
        },
        {
          "output_type": "stream",
          "name": "stderr",
          "text": [
            "/usr/local/lib/python3.11/dist-packages/sklearn/linear_model/_logistic.py:1247: FutureWarning: 'multi_class' was deprecated in version 1.5 and will be removed in 1.7. From then on, it will always use 'multinomial'. Leave it to its default value to avoid this warning.\n",
            "  warnings.warn(\n",
            "/usr/local/lib/python3.11/dist-packages/sklearn/linear_model/_sag.py:348: ConvergenceWarning: The max_iter was reached which means the coef_ did not converge\n",
            "  warnings.warn(\n"
          ]
        }
      ]
    },
    {
      "cell_type": "markdown",
      "source": [
        "**Q3. Write a Python program to train Logistic Regression with L2 regularization (Ridge) using LogisticRegression(penalty='l2'). Print model accuracy and coefficients?**"
      ],
      "metadata": {
        "id": "_Y4z2ACuj5am"
      }
    },
    {
      "cell_type": "code",
      "source": [
        "from sklearn.datasets import load_iris\n",
        "from sklearn.model_selection import train_test_split\n",
        "from sklearn.linear_model import LogisticRegression\n",
        "from sklearn.metrics import accuracy_score\n",
        "\n",
        "# Step 1: Load the dataset\n",
        "iris = load_iris()\n",
        "X = iris.data\n",
        "y = iris.target\n",
        "\n",
        "# Step 2: Split dataset into training and testing sets\n",
        "X_train, X_test, y_train, y_test = train_test_split(X, y, test_size=0.2, random_state=42)\n",
        "\n",
        "# Step 3: Train Logistic Regression with L2 regularization\n",
        "model = LogisticRegression(penalty='l2', solver='lbfgs', max_iter=200, multi_class='multinomial')\n",
        "model.fit(X_train, y_train)\n",
        "\n",
        "# Step 4: Predict on test set\n",
        "y_pred = model.predict(X_test)\n",
        "\n",
        "# Step 5: Calculate accuracy\n",
        "accuracy = accuracy_score(y_test, y_pred)\n",
        "print(f\"Model Accuracy with L2 Regularization: {accuracy:.2f}\")\n",
        "\n",
        "# Step 6: Print model coefficients\n",
        "print(\"Model Coefficients:\")\n",
        "for idx, class_label in enumerate(iris.target_names):\n",
        "    print(f\"Class '{class_label}': {model.coef_[idx]}\")"
      ],
      "metadata": {
        "colab": {
          "base_uri": "https://localhost:8080/"
        },
        "id": "UCrvepxiPYLn",
        "outputId": "146e5870-894f-476f-8e59-cd29578a1e3b"
      },
      "execution_count": null,
      "outputs": [
        {
          "output_type": "stream",
          "name": "stdout",
          "text": [
            "Model Accuracy with L2 Regularization: 1.00\n",
            "Model Coefficients:\n",
            "Class 'setosa': [-0.39345607  0.96251768 -2.37512436 -0.99874594]\n",
            "Class 'versicolor': [ 0.50843279 -0.25482714 -0.21301129 -0.77574766]\n",
            "Class 'virginica': [-0.11497673 -0.70769055  2.58813565  1.7744936 ]\n"
          ]
        },
        {
          "output_type": "stream",
          "name": "stderr",
          "text": [
            "/usr/local/lib/python3.11/dist-packages/sklearn/linear_model/_logistic.py:1247: FutureWarning: 'multi_class' was deprecated in version 1.5 and will be removed in 1.7. From then on, it will always use 'multinomial'. Leave it to its default value to avoid this warning.\n",
            "  warnings.warn(\n"
          ]
        }
      ]
    },
    {
      "cell_type": "markdown",
      "source": [
        "**Q4. Write a Python program to train Logistic Regression with Elastic Net Regularization (penalty='elasticnet')?**"
      ],
      "metadata": {
        "id": "lWZ2pCN_kCH9"
      }
    },
    {
      "cell_type": "code",
      "source": [
        "from sklearn.datasets import load_iris\n",
        "from sklearn.model_selection import train_test_split\n",
        "from sklearn.linear_model import LogisticRegression\n",
        "from sklearn.metrics import accuracy_score\n",
        "\n",
        "# Step 1: Load dataset\n",
        "iris = load_iris()\n",
        "X = iris.data\n",
        "y = iris.target\n",
        "\n",
        "# Step 2: Split into train and test sets\n",
        "X_train, X_test, y_train, y_test = train_test_split(\n",
        "    X, y, test_size=0.2, random_state=42\n",
        ")\n",
        "\n",
        "# Step 3: Train Logistic Regression with Elastic Net\n",
        "model = LogisticRegression(\n",
        "    penalty='elasticnet',\n",
        "    solver='saga',\n",
        "    l1_ratio=0.5,           # Mix of L1 and L2 (Elastic Net)\n",
        "    max_iter=500,\n",
        "    multi_class='multinomial'\n",
        ")\n",
        "model.fit(X_train, y_train)\n",
        "\n",
        "# Step 4: Evaluate model\n",
        "y_pred = model.predict(X_test)\n",
        "accuracy = accuracy_score(y_test, y_pred)\n",
        "print(f\"Model Accuracy with Elastic Net Regularization: {accuracy:.2f}\")\n",
        "\n",
        "# Step 5: Print model coefficients\n",
        "print(\"Model Coefficients:\")\n",
        "for idx, class_label in enumerate(iris.target_names):\n",
        "    print(f\"Class '{class_label}': {model.coef_[idx]}\")"
      ],
      "metadata": {
        "colab": {
          "base_uri": "https://localhost:8080/"
        },
        "id": "z_eGrDPfRfZ3",
        "outputId": "357cbe2e-8a5a-4175-ea15-3d2478d569e0"
      },
      "execution_count": null,
      "outputs": [
        {
          "output_type": "stream",
          "name": "stdout",
          "text": [
            "Model Accuracy with Elastic Net Regularization: 1.00\n",
            "Model Coefficients:\n",
            "Class 'setosa': [ 0.25513599  1.73427538 -2.43152985 -0.61863687]\n",
            "Class 'versicolor': [ 0.          0.          0.         -0.50817384]\n",
            "Class 'virginica': [-1.01094023 -1.20952171  2.64709377  2.10729418]\n"
          ]
        },
        {
          "output_type": "stream",
          "name": "stderr",
          "text": [
            "/usr/local/lib/python3.11/dist-packages/sklearn/linear_model/_logistic.py:1247: FutureWarning: 'multi_class' was deprecated in version 1.5 and will be removed in 1.7. From then on, it will always use 'multinomial'. Leave it to its default value to avoid this warning.\n",
            "  warnings.warn(\n",
            "/usr/local/lib/python3.11/dist-packages/sklearn/linear_model/_sag.py:348: ConvergenceWarning: The max_iter was reached which means the coef_ did not converge\n",
            "  warnings.warn(\n"
          ]
        }
      ]
    },
    {
      "cell_type": "markdown",
      "source": [
        "**Q5. Write a Python program to train a Logistic Regression model for multiclass classification using multi_class='ovr'?**"
      ],
      "metadata": {
        "id": "FYAwdMRjkIuH"
      }
    },
    {
      "cell_type": "code",
      "source": [
        "from sklearn.datasets import load_iris\n",
        "from sklearn.model_selection import train_test_split\n",
        "from sklearn.linear_model import LogisticRegression\n",
        "from sklearn.metrics import accuracy_score\n",
        "\n",
        "# Step 1: Load the dataset\n",
        "iris = load_iris()\n",
        "X = iris.data\n",
        "y = iris.target\n",
        "\n",
        "# Step 2: Split into training and testing sets\n",
        "X_train, X_test, y_train, y_test = train_test_split(\n",
        "    X, y, test_size=0.2, random_state=42\n",
        ")\n",
        "\n",
        "# Step 3: Train Logistic Regression using One-vs-Rest (OvR)\n",
        "model = LogisticRegression(\n",
        "    multi_class='ovr',\n",
        "    solver='lbfgs',  # Supports OvR and is good for small to medium datasets\n",
        "    max_iter=200\n",
        ")\n",
        "model.fit(X_train, y_train)\n",
        "\n",
        "# Step 4: Evaluate model\n",
        "y_pred = model.predict(X_test)\n",
        "accuracy = accuracy_score(y_test, y_pred)\n",
        "print(f\"Model Accuracy with One-vs-Rest (OvR): {accuracy:.2f}\")\n",
        "\n",
        "# Step 5: Print model coefficients\n",
        "print(\"\\nModel Coefficients (One-vs-Rest):\")\n",
        "for idx, class_label in enumerate(iris.target_names):\n",
        "    print(f\"Class '{class_label}': {model.coef_[idx]}\")"
      ],
      "metadata": {
        "colab": {
          "base_uri": "https://localhost:8080/"
        },
        "id": "yAcrJkKoTqk-",
        "outputId": "b48f5dea-2437-4873-ac83-9e7c8b6af5a1"
      },
      "execution_count": null,
      "outputs": [
        {
          "output_type": "stream",
          "name": "stdout",
          "text": [
            "Model Accuracy with One-vs-Rest (OvR): 0.97\n",
            "\n",
            "Model Coefficients (One-vs-Rest):\n",
            "Class 'setosa': [-0.42762216  0.88771927 -2.21471658 -0.91610036]\n",
            "Class 'versicolor': [-0.03387836 -2.0442989   0.54266011 -1.0179372 ]\n",
            "Class 'virginica': [-0.38904645 -0.62147609  2.7762982   2.09067085]\n"
          ]
        },
        {
          "output_type": "stream",
          "name": "stderr",
          "text": [
            "/usr/local/lib/python3.11/dist-packages/sklearn/linear_model/_logistic.py:1256: FutureWarning: 'multi_class' was deprecated in version 1.5 and will be removed in 1.7. Use OneVsRestClassifier(LogisticRegression(..)) instead. Leave it to its default value to avoid this warning.\n",
            "  warnings.warn(\n"
          ]
        }
      ]
    },
    {
      "cell_type": "markdown",
      "source": [
        "**Q6. Write a Python program to apply GridSearchCV to tune the hyperparameters (C and penalty) of Logistic Regression. Print the best parameters and accuracy?**"
      ],
      "metadata": {
        "id": "wMSkCQ03kXdz"
      }
    },
    {
      "cell_type": "code",
      "source": [
        "from sklearn.datasets import load_iris\n",
        "from sklearn.model_selection import train_test_split, GridSearchCV\n",
        "from sklearn.linear_model import LogisticRegression\n",
        "from sklearn.metrics import accuracy_score\n",
        "\n",
        "# Step 1: Load dataset\n",
        "iris = load_iris()\n",
        "X = iris.data\n",
        "y = iris.target\n",
        "\n",
        "# Step 2: Split into train and test sets\n",
        "X_train, X_test, y_train, y_test = train_test_split(\n",
        "    X, y, test_size=0.2, random_state=42\n",
        ")\n",
        "\n",
        "# Step 3: Define the model\n",
        "model = LogisticRegression(solver='saga', max_iter=1000, multi_class='multinomial')\n",
        "\n",
        "# Step 4: Define hyperparameter grid\n",
        "param_grid = {\n",
        "    'C': [0.01, 0.1, 1, 10],\n",
        "    'penalty': ['l1', 'l2']  # Both L1 and L2 regularization\n",
        "}\n",
        "\n",
        "# Step 5: Apply GridSearchCV\n",
        "grid_search = GridSearchCV(model, param_grid, cv=5, scoring='accuracy', n_jobs=-1)\n",
        "grid_search.fit(X_train, y_train)\n",
        "\n",
        "# Step 6: Best parameters and accuracy\n",
        "best_model = grid_search.best_estimator_\n",
        "y_pred = best_model.predict(X_test)\n",
        "accuracy = accuracy_score(y_test, y_pred)\n",
        "\n",
        "print(\"Best Hyperparameters:\")\n",
        "print(grid_search.best_params_)\n",
        "\n",
        "print(f\"Test Set Accuracy: {accuracy:.2f}\")"
      ],
      "metadata": {
        "colab": {
          "base_uri": "https://localhost:8080/"
        },
        "id": "LNM5prF4WPvB",
        "outputId": "e0d5e776-1603-4806-aacd-ec08f83a5fe5"
      },
      "execution_count": null,
      "outputs": [
        {
          "output_type": "stream",
          "name": "stdout",
          "text": [
            "Best Hyperparameters:\n",
            "{'C': 10, 'penalty': 'l2'}\n",
            "Test Set Accuracy: 1.00\n"
          ]
        },
        {
          "output_type": "stream",
          "name": "stderr",
          "text": [
            "/usr/local/lib/python3.11/dist-packages/sklearn/linear_model/_logistic.py:1247: FutureWarning: 'multi_class' was deprecated in version 1.5 and will be removed in 1.7. From then on, it will always use 'multinomial'. Leave it to its default value to avoid this warning.\n",
            "  warnings.warn(\n"
          ]
        }
      ]
    },
    {
      "cell_type": "markdown",
      "source": [
        "**Q7. Write a Python program to evaluate Logistic Regression using Stratified K-Fold Cross-Validation. Print the average accuracy?**"
      ],
      "metadata": {
        "id": "6CHdspqKlv8h"
      }
    },
    {
      "cell_type": "code",
      "source": [
        "from sklearn.datasets import load_iris\n",
        "from sklearn.linear_model import LogisticRegression\n",
        "from sklearn.model_selection import StratifiedKFold\n",
        "from sklearn.metrics import accuracy_score\n",
        "import numpy as np\n",
        "\n",
        "# Step 1: Load dataset\n",
        "iris = load_iris()\n",
        "X = iris.data\n",
        "y = iris.target\n",
        "\n",
        "# Step 2: Define Stratified K-Fold\n",
        "skf = StratifiedKFold(n_splits=5, shuffle=True, random_state=42)\n",
        "\n",
        "# Step 3: Initialize model\n",
        "model = LogisticRegression(max_iter=200, solver='lbfgs', multi_class='multinomial')\n",
        "\n",
        "# Step 4: Cross-validation\n",
        "accuracies = []\n",
        "\n",
        "for train_index, test_index in skf.split(X, y):\n",
        "    X_train, X_test = X[train_index], X[test_index]\n",
        "    y_train, y_test = y[train_index], y[test_index]\n",
        "\n",
        "    model.fit(X_train, y_train)\n",
        "    y_pred = model.predict(X_test)\n",
        "\n",
        "    acc = accuracy_score(y_test, y_pred)\n",
        "    accuracies.append(acc)\n",
        "    print(f\"Fold Accuracy: {acc:.2f}\")\n",
        "\n",
        "# Step 5: Print average accuracy\n",
        "average_accuracy = np.mean(accuracies)\n",
        "print(f\"\\nAverage Accuracy across folds: {average_accuracy:.2f}\")"
      ],
      "metadata": {
        "colab": {
          "base_uri": "https://localhost:8080/"
        },
        "id": "hrIV8VTuYDcH",
        "outputId": "1e63f075-bc7e-4fdb-f9e9-1480e009db9b"
      },
      "execution_count": null,
      "outputs": [
        {
          "output_type": "stream",
          "name": "stderr",
          "text": [
            "/usr/local/lib/python3.11/dist-packages/sklearn/linear_model/_logistic.py:1247: FutureWarning: 'multi_class' was deprecated in version 1.5 and will be removed in 1.7. From then on, it will always use 'multinomial'. Leave it to its default value to avoid this warning.\n",
            "  warnings.warn(\n",
            "/usr/local/lib/python3.11/dist-packages/sklearn/linear_model/_logistic.py:1247: FutureWarning: 'multi_class' was deprecated in version 1.5 and will be removed in 1.7. From then on, it will always use 'multinomial'. Leave it to its default value to avoid this warning.\n",
            "  warnings.warn(\n"
          ]
        },
        {
          "output_type": "stream",
          "name": "stdout",
          "text": [
            "Fold Accuracy: 1.00\n",
            "Fold Accuracy: 0.97\n",
            "Fold Accuracy: 0.93\n",
            "Fold Accuracy: 1.00\n",
            "Fold Accuracy: 0.93\n",
            "\n",
            "Average Accuracy across folds: 0.97\n"
          ]
        },
        {
          "output_type": "stream",
          "name": "stderr",
          "text": [
            "/usr/local/lib/python3.11/dist-packages/sklearn/linear_model/_logistic.py:1247: FutureWarning: 'multi_class' was deprecated in version 1.5 and will be removed in 1.7. From then on, it will always use 'multinomial'. Leave it to its default value to avoid this warning.\n",
            "  warnings.warn(\n",
            "/usr/local/lib/python3.11/dist-packages/sklearn/linear_model/_logistic.py:1247: FutureWarning: 'multi_class' was deprecated in version 1.5 and will be removed in 1.7. From then on, it will always use 'multinomial'. Leave it to its default value to avoid this warning.\n",
            "  warnings.warn(\n",
            "/usr/local/lib/python3.11/dist-packages/sklearn/linear_model/_logistic.py:1247: FutureWarning: 'multi_class' was deprecated in version 1.5 and will be removed in 1.7. From then on, it will always use 'multinomial'. Leave it to its default value to avoid this warning.\n",
            "  warnings.warn(\n"
          ]
        }
      ]
    },
    {
      "cell_type": "markdown",
      "source": [
        "**Q8. Write a Python program to load a dataset from a CSV file, apply Logistic Regression, and evaluate its accuracy?**"
      ],
      "metadata": {
        "id": "FKP4Q1Bul1sv"
      }
    },
    {
      "cell_type": "code",
      "source": [
        "from sklearn.datasets import load_iris\n",
        "from sklearn.model_selection import train_test_split\n",
        "from sklearn.linear_model import LogisticRegression\n",
        "from sklearn.metrics import accuracy_score\n",
        "\n",
        "# Load the Iris dataset\n",
        "iris = load_iris()\n",
        "X = iris.data         # Features\n",
        "y = iris.target       # Target labels\n",
        "\n",
        "# Split into train and test sets (80% train, 20% test)\n",
        "X_train, X_test, y_train, y_test = train_test_split(X, y, test_size=0.2, random_state=42)\n",
        "\n",
        "# Initialize and train the Logistic Regression model\n",
        "model = LogisticRegression(max_iter=200)\n",
        "model.fit(X_train, y_train)\n",
        "\n",
        "# Make predictions\n",
        "y_pred = model.predict(X_test)\n",
        "\n",
        "# Evaluate accuracy\n",
        "accuracy = accuracy_score(y_test, y_pred)\n",
        "print(f\"Logistic Regression Accuracy on Iris dataset: {accuracy:.2f}\")"
      ],
      "metadata": {
        "colab": {
          "base_uri": "https://localhost:8080/"
        },
        "id": "OuzW2JSi-XE2",
        "outputId": "5a8d52de-3b55-4717-d685-8aa5dbf60d27"
      },
      "execution_count": null,
      "outputs": [
        {
          "output_type": "stream",
          "name": "stdout",
          "text": [
            "Logistic Regression Accuracy on Iris dataset: 1.00\n"
          ]
        }
      ]
    },
    {
      "cell_type": "markdown",
      "source": [
        "**Q9. Write a Python program to apply RandomizedSearchCV for tuning hyperparameters (C, penalty, solver) in Logistic Regression. Print the best parameters and accuracy?**"
      ],
      "metadata": {
        "id": "9fVJm5aul7vt"
      }
    },
    {
      "cell_type": "code",
      "source": [
        "from sklearn.datasets import load_iris\n",
        "from sklearn.linear_model import LogisticRegression\n",
        "from sklearn.model_selection import RandomizedSearchCV, train_test_split\n",
        "from sklearn.metrics import accuracy_score\n",
        "from scipy.stats import loguniform\n",
        "import warnings\n",
        "\n",
        "# Suppress warnings for cleaner output\n",
        "warnings.filterwarnings(\"ignore\")\n",
        "\n",
        "# Load dataset\n",
        "iris = load_iris()\n",
        "X = iris.data\n",
        "y = iris.target\n",
        "\n",
        "# Split into training and testing data\n",
        "X_train, X_test, y_train, y_test = train_test_split(X, y, test_size=0.2, random_state=42)\n",
        "\n",
        "# Define Logistic Regression model\n",
        "model = LogisticRegression(max_iter=1000)\n",
        "\n",
        "# Define hyperparameter space\n",
        "param_dist = {\n",
        "    'C': loguniform(1e-4, 1e4),                  # Continuous range for regularization\n",
        "    'penalty': ['l1', 'l2', 'elasticnet', 'none'],\n",
        "    'solver': ['saga', 'liblinear', 'lbfgs', 'newton-cg', 'sag']\n",
        "}\n",
        "\n",
        "# Randomized search\n",
        "random_search = RandomizedSearchCV(\n",
        "    model,\n",
        "    param_distributions=param_dist,\n",
        "    n_iter=30,  # Number of different combinations to try\n",
        "    scoring='accuracy',\n",
        "    cv=5,\n",
        "    random_state=42,\n",
        "    n_jobs=-1\n",
        ")\n",
        "\n",
        "# Fit the model\n",
        "random_search.fit(X_train, y_train)\n",
        "\n",
        "# Best model and its performance\n",
        "best_model = random_search.best_estimator_\n",
        "y_pred = best_model.predict(X_test)\n",
        "accuracy = accuracy_score(y_test, y_pred)\n",
        "\n",
        "# Output results\n",
        "print(\"Best Hyperparameters:\")\n",
        "print(random_search.best_params_)\n",
        "print(f\"Test Set Accuracy: {accuracy:.2f}\")"
      ],
      "metadata": {
        "colab": {
          "base_uri": "https://localhost:8080/"
        },
        "id": "DIbEZIsjAAO-",
        "outputId": "1d2546dc-9059-4914-b815-3cbad8d6a469"
      },
      "execution_count": null,
      "outputs": [
        {
          "output_type": "stream",
          "name": "stdout",
          "text": [
            "Best Hyperparameters:\n",
            "{'C': np.float64(3448.3714871953384), 'penalty': 'l2', 'solver': 'liblinear'}\n",
            "Test Set Accuracy: 1.00\n"
          ]
        }
      ]
    },
    {
      "cell_type": "markdown",
      "source": [
        "**Q10. Write a Python program to implement One-vs-One (OvO) Multiclass Logistic Regression and print accuracy?**"
      ],
      "metadata": {
        "id": "Xp2rnaLgmDQZ"
      }
    },
    {
      "cell_type": "code",
      "source": [
        "from sklearn.datasets import load_iris\n",
        "from sklearn.linear_model import LogisticRegression\n",
        "from sklearn.model_selection import train_test_split\n",
        "from sklearn.multiclass import OneVsOneClassifier\n",
        "from sklearn.metrics import accuracy_score\n",
        "\n",
        "# Load the Iris dataset\n",
        "iris = load_iris()\n",
        "X = iris.data\n",
        "y = iris.target\n",
        "\n",
        "# Split into training and test sets\n",
        "X_train, X_test, y_train, y_test = train_test_split(\n",
        "    X, y, test_size=0.2, random_state=42\n",
        ")\n",
        "\n",
        "# Logistic Regression base model\n",
        "base_model = LogisticRegression(max_iter=1000)\n",
        "\n",
        "# One-vs-One (OvO) wrapper\n",
        "ovo_model = OneVsOneClassifier(base_model)\n",
        "\n",
        "# Train the OvO model\n",
        "ovo_model.fit(X_train, y_train)\n",
        "\n",
        "# Make predictions\n",
        "y_pred = ovo_model.predict(X_test)\n",
        "\n",
        "# Evaluate and print accuracy\n",
        "accuracy = accuracy_score(y_test, y_pred)\n",
        "print(f\"One-vs-One Logistic Regression Accuracy: {accuracy:.2f}\")"
      ],
      "metadata": {
        "colab": {
          "base_uri": "https://localhost:8080/"
        },
        "id": "gvX0hzYyBd36",
        "outputId": "85fa22a9-00aa-46ed-d563-7931a731ce3c"
      },
      "execution_count": null,
      "outputs": [
        {
          "output_type": "stream",
          "name": "stdout",
          "text": [
            "One-vs-One Logistic Regression Accuracy: 1.00\n"
          ]
        }
      ]
    },
    {
      "cell_type": "markdown",
      "source": [
        "**Q11. Write a Python program to train a Logistic Regression model and visualize the confusion matrix for binary classification?**"
      ],
      "metadata": {
        "id": "kZSbfYaZmIoI"
      }
    },
    {
      "cell_type": "code",
      "source": [
        "import matplotlib.pyplot as plt\n",
        "import seaborn as sns\n",
        "from sklearn.datasets import make_classification\n",
        "from sklearn.linear_model import LogisticRegression\n",
        "from sklearn.metrics import confusion_matrix, ConfusionMatrixDisplay\n",
        "from sklearn.model_selection import train_test_split\n",
        "\n",
        "# 1. Generate a binary classification dataset\n",
        "X, y = make_classification(n_samples=1000, n_features=10, n_classes=2,\n",
        "                           n_informative=5, random_state=42)\n",
        "\n",
        "# 2. Split into training and test sets\n",
        "X_train, X_test, y_train, y_test = train_test_split(\n",
        "    X, y, test_size=0.2, random_state=42\n",
        ")\n",
        "\n",
        "# 3. Train a Logistic Regression model\n",
        "model = LogisticRegression(max_iter=1000)\n",
        "model.fit(X_train, y_train)\n",
        "\n",
        "# 4. Make predictions\n",
        "y_pred = model.predict(X_test)\n",
        "\n",
        "# 5. Compute confusion matrix\n",
        "cm = confusion_matrix(y_test, y_pred)\n",
        "print(\"Confusion Matrix:\")\n",
        "print(cm)\n",
        "\n",
        "# 6. Plot confusion matrix using seaborn heatmap\n",
        "plt.figure(figsize=(6, 4))\n",
        "sns.heatmap(cm, annot=True, fmt='d', cmap='Blues',\n",
        "            xticklabels=['Pred 0', 'Pred 1'],\n",
        "            yticklabels=['Actual 0', 'Actual 1'])\n",
        "plt.title('Confusion Matrix - Logistic Regression')\n",
        "plt.xlabel('Predicted')\n",
        "plt.ylabel('Actual')\n",
        "plt.tight_layout()\n",
        "plt.show()"
      ],
      "metadata": {
        "colab": {
          "base_uri": "https://localhost:8080/",
          "height": 459
        },
        "id": "NwuyOEKdB0Wo",
        "outputId": "bd450886-4c64-4ec7-cd61-2d7080e55b76"
      },
      "execution_count": null,
      "outputs": [
        {
          "output_type": "stream",
          "name": "stdout",
          "text": [
            "Confusion Matrix:\n",
            "[[95 17]\n",
            " [16 72]]\n"
          ]
        },
        {
          "output_type": "display_data",
          "data": {
            "text/plain": [
              "<Figure size 600x400 with 2 Axes>"
            ],
            "image/png": "[encoded data removed]"
          },
          "metadata": {}
        }
      ]
    },
    {
      "cell_type": "markdown",
      "source": [
        "**Q12. Write a Python program to train a Logistic Regression model and evaluate its performance using Precision, Recall, and F1-Score?**"
      ],
      "metadata": {
        "id": "3RHOBidGmdxu"
      }
    },
    {
      "cell_type": "code",
      "source": [
        "from sklearn.datasets import make_classification\n",
        "from sklearn.linear_model import LogisticRegression\n",
        "from sklearn.metrics import precision_score, recall_score, f1_score\n",
        "from sklearn.model_selection import train_test_split\n",
        "\n",
        "# 1. Create a binary classification dataset\n",
        "X, y = make_classification(n_samples=1000, n_features=10, n_classes=2,\n",
        "                           n_informative=5, random_state=42)\n",
        "\n",
        "# 2. Split the dataset into training and test sets\n",
        "X_train, X_test, y_train, y_test = train_test_split(\n",
        "    X, y, test_size=0.2, random_state=42\n",
        ")\n",
        "\n",
        "# 3. Train a Logistic Regression model\n",
        "model = LogisticRegression(max_iter=1000)\n",
        "model.fit(X_train, y_train)\n",
        "\n",
        "# 4. Make predictions on the test set\n",
        "y_pred = model.predict(X_test)\n",
        "\n",
        "# 5. Evaluate performance\n",
        "precision = precision_score(y_test, y_pred)\n",
        "recall = recall_score(y_test, y_pred)\n",
        "f1 = f1_score(y_test, y_pred)\n",
        "\n",
        "# 6. Print results\n",
        "print(f\"Precision: {precision:.2f}\")\n",
        "print(f\"Recall:    {recall:.2f}\")\n",
        "print(f\"F1 Score:  {f1:.2f}\")"
      ],
      "metadata": {
        "colab": {
          "base_uri": "https://localhost:8080/"
        },
        "id": "r-GDgbylCn3D",
        "outputId": "ba84c5fc-43a4-4713-dc09-545cde787afc"
      },
      "execution_count": null,
      "outputs": [
        {
          "output_type": "stream",
          "name": "stdout",
          "text": [
            "Precision: 0.81\n",
            "Recall:    0.82\n",
            "F1 Score:  0.81\n"
          ]
        }
      ]
    },
    {
      "cell_type": "markdown",
      "source": [
        "**Q13. Write a Python program to train a Logistic Regression model on imbalanced data and apply class weights to improve model performance?**"
      ],
      "metadata": {
        "id": "V9iaq6qEmiGB"
      }
    },
    {
      "cell_type": "code",
      "source": [
        "from sklearn.datasets import make_classification\n",
        "from sklearn.linear_model import LogisticRegression\n",
        "from sklearn.model_selection import train_test_split\n",
        "from sklearn.metrics import classification_report\n",
        "import numpy as np\n",
        "\n",
        "# 1. Create an imbalanced binary classification dataset\n",
        "X, y = make_classification(\n",
        "    n_samples=1000,\n",
        "    n_features=10,\n",
        "    n_informative=5,\n",
        "    n_redundant=0,\n",
        "    n_clusters_per_class=1,\n",
        "    weights=[0.9, 0.1],  # 90% of class 0, 10% of class 1\n",
        "    random_state=42\n",
        ")\n",
        "\n",
        "# 2. Split into training and test sets\n",
        "X_train, X_test, y_train, y_test = train_test_split(\n",
        "    X, y, test_size=0.2, random_state=42, stratify=y\n",
        ")\n",
        "\n",
        "# 3. Train Logistic Regression WITHOUT class weights\n",
        "model_no_weights = LogisticRegression(max_iter=1000)\n",
        "model_no_weights.fit(X_train, y_train)\n",
        "y_pred_no_weights = model_no_weights.predict(X_test)\n",
        "\n",
        "# 4. Train Logistic Regression WITH balanced class weights\n",
        "model_weighted = LogisticRegression(class_weight='balanced', max_iter=1000)\n",
        "model_weighted.fit(X_train, y_train)\n",
        "y_pred_weighted = model_weighted.predict(X_test)\n",
        "\n",
        "# 5. Evaluate both models\n",
        "print(\"=== Without Class Weights ===\")\n",
        "print(classification_report(y_test, y_pred_no_weights, digits=2))\n",
        "\n",
        "print(\"=== With Class Weights (Balanced) ===\")\n",
        "print(classification_report(y_test, y_pred_weighted, digits=2))"
      ],
      "metadata": {
        "colab": {
          "base_uri": "https://localhost:8080/"
        },
        "id": "Rp1T_HjCFI9p",
        "outputId": "f0e0607c-3c6f-4824-9679-ac14f38eb59f"
      },
      "execution_count": null,
      "outputs": [
        {
          "output_type": "stream",
          "name": "stdout",
          "text": [
            "=== Without Class Weights ===\n",
            "              precision    recall  f1-score   support\n",
            "\n",
            "           0       0.97      0.99      0.98       178\n",
            "           1       0.94      0.73      0.82        22\n",
            "\n",
            "    accuracy                           0.96       200\n",
            "   macro avg       0.95      0.86      0.90       200\n",
            "weighted avg       0.96      0.96      0.96       200\n",
            "\n",
            "=== With Class Weights (Balanced) ===\n",
            "              precision    recall  f1-score   support\n",
            "\n",
            "           0       0.98      0.89      0.94       178\n",
            "           1       0.50      0.86      0.63        22\n",
            "\n",
            "    accuracy                           0.89       200\n",
            "   macro avg       0.74      0.88      0.78       200\n",
            "weighted avg       0.93      0.89      0.90       200\n",
            "\n"
          ]
        }
      ]
    },
    {
      "cell_type": "markdown",
      "source": [
        "**Q14. Write a Python program to train Logistic Regression on the Titanic dataset, handle missing values, and evaluate performance?**"
      ],
      "metadata": {
        "id": "RDJOE4mCmnsE"
      }
    },
    {
      "cell_type": "code",
      "source": [
        "\timport pandas as pd\n",
        "import seaborn as sns\n",
        "from sklearn.linear_model import LogisticRegression\n",
        "from sklearn.model_selection import train_test_split\n",
        "from sklearn.metrics import classification_report\n",
        "from sklearn.preprocessing import LabelEncoder\n",
        "\n",
        "# 1. Load Titanic dataset\n",
        "df = sns.load_dataset('titanic')\n",
        "\n",
        "# 2. Basic preprocessing\n",
        "# Drop rows with missing target\n",
        "df = df.dropna(subset=['survived'])\n",
        "\n",
        "# Fill missing values\n",
        "df['age'].fillna(df['age'].median(), inplace=True)\n",
        "df['embarked'].fillna(df['embarked'].mode()[0], inplace=True)\n",
        "\n",
        "# Drop columns that won't be used\n",
        "df = df.drop(columns=['deck', 'embark_town', 'alive', 'class', 'who', 'adult_male'])\n",
        "\n",
        "# Encode categorical features\n",
        "label_cols = ['sex', 'embarked']\n",
        "df[label_cols] = df[label_cols].apply(LabelEncoder().fit_transform)\n",
        "\n",
        "# 3. Define features and target\n",
        "features = ['pclass', 'sex', 'age', 'sibsp', 'parch', 'fare', 'embarked']\n",
        "X = df[features]\n",
        "y = df['survived']\n",
        "\n",
        "# 4. Split dataset\n",
        "X_train, X_test, y_train, y_test = train_test_split(\n",
        "    X, y, test_size=0.2, random_state=42, stratify=y\n",
        ")\n",
        "\n",
        "# 5. Train Logistic Regression model\n",
        "model = LogisticRegression(max_iter=1000)\n",
        "model.fit(X_train, y_train)\n",
        "\n",
        "# 6. Predict and evaluate\n",
        "y_pred = model.predict(X_test)\n",
        "print(\"=== Classification Report ===\")\n",
        "print(classification_report(y_test, y_pred, digits=2))"
      ],
      "metadata": {
        "colab": {
          "base_uri": "https://localhost:8080/"
        },
        "id": "AVrwLt3MFa00",
        "outputId": "254e4197-2e41-45c1-f46b-62723e693345"
      },
      "execution_count": null,
      "outputs": [
        {
          "output_type": "stream",
          "name": "stdout",
          "text": [
            "=== Classification Report ===\n",
            "              precision    recall  f1-score   support\n",
            "\n",
            "           0       0.81      0.89      0.85       110\n",
            "           1       0.79      0.67      0.72        69\n",
            "\n",
            "    accuracy                           0.80       179\n",
            "   macro avg       0.80      0.78      0.79       179\n",
            "weighted avg       0.80      0.80      0.80       179\n",
            "\n"
          ]
        }
      ]
    },
    {
      "cell_type": "markdown",
      "source": [
        "**Q15. Write a Python program to apply feature scaling (Standardization) before training a Logistic Regression model. Evaluate its accuracy and compare results with and without scaling?**"
      ],
      "metadata": {
        "id": "XYtyCBpimtr5"
      }
    },
    {
      "cell_type": "code",
      "source": [
        "from sklearn.datasets import make_classification\n",
        "from sklearn.linear_model import LogisticRegression\n",
        "from sklearn.model_selection import train_test_split\n",
        "from sklearn.metrics import accuracy_score\n",
        "from sklearn.preprocessing import StandardScaler\n",
        "import numpy as np\n",
        "\n",
        "# 1. Create a synthetic dataset\n",
        "X, y = make_classification(\n",
        "    n_samples=1000,\n",
        "    n_features=10,\n",
        "    n_informative=5,\n",
        "    n_redundant=2,\n",
        "    random_state=42\n",
        ")\n",
        "\n",
        "# 2. Artificially vary feature scales\n",
        "scaling_factors = np.array([1, 10, 100, 1, 10, 100, 1, 10, 100, 1])\n",
        "X *= scaling_factors\n",
        "\n",
        "# 3. Split into training and test sets\n",
        "X_train, X_test, y_train, y_test = train_test_split(\n",
        "    X, y, test_size=0.2, random_state=42\n",
        ")\n",
        "\n",
        "# 4. Logistic Regression WITHOUT Scaling\n",
        "model_no_scaling = LogisticRegression(C=0.01, max_iter=1000)\n",
        "model_no_scaling.fit(X_train, y_train)\n",
        "y_pred_no_scaling = model_no_scaling.predict(X_test)\n",
        "acc_no_scaling = accuracy_score(y_test, y_pred_no_scaling)\n",
        "\n",
        "# 5. Standardize features (Z-score scaling)\n",
        "scaler = StandardScaler()\n",
        "X_train_scaled = scaler.fit_transform(X_train)\n",
        "X_test_scaled = scaler.transform(X_test)\n",
        "\n",
        "# 6. Logistic Regression WITH Scaling\n",
        "model_scaled = LogisticRegression(C=0.01, max_iter=1000)\n",
        "model_scaled.fit(X_train_scaled, y_train)\n",
        "y_pred_scaled = model_scaled.predict(X_test_scaled)\n",
        "acc_scaled = accuracy_score(y_test, y_pred_scaled)\n",
        "\n",
        "# 7. Compare results\n",
        "print(\"=== Logistic Regression Accuracy Comparison ===\")\n",
        "print(f\"Without Scaling: {acc_no_scaling:.2f}\")\n",
        "print(f\"With Scaling:    {acc_scaled:.2f}\")\n"
      ],
      "metadata": {
        "colab": {
          "base_uri": "https://localhost:8080/"
        },
        "id": "41vpcCcjFnKo",
        "outputId": "f5383add-a148-49e2-a13a-2054b8ec3b81"
      },
      "execution_count": null,
      "outputs": [
        {
          "output_type": "stream",
          "name": "stdout",
          "text": [
            "=== Logistic Regression Accuracy Comparison ===\n",
            "Without Scaling: 0.81\n",
            "With Scaling:    0.82\n"
          ]
        }
      ]
    },
    {
      "cell_type": "markdown",
      "source": [
        "**Q16. Write a Python program to train Logistic Regression and evaluate its performance using ROC-AUC score?**"
      ],
      "metadata": {
        "id": "WK_ZUZUlmz9c"
      }
    },
    {
      "cell_type": "code",
      "source": [
        "from sklearn.datasets import make_classification\n",
        "from sklearn.linear_model import LogisticRegression\n",
        "from sklearn.model_selection import train_test_split\n",
        "from sklearn.metrics import roc_auc_score, roc_curve\n",
        "import matplotlib.pyplot as plt\n",
        "\n",
        "# 1. Create a synthetic binary classification dataset\n",
        "X, y = make_classification(\n",
        "    n_samples=1000, n_features=10, n_informative=5,\n",
        "    n_classes=2, weights=[0.7, 0.3], random_state=42\n",
        ")\n",
        "\n",
        "# 2. Split into training and test sets\n",
        "X_train, X_test, y_train, y_test = train_test_split(\n",
        "    X, y, test_size=0.2, random_state=42, stratify=y\n",
        ")\n",
        "\n",
        "# 3. Train Logistic Regression model\n",
        "model = LogisticRegression(max_iter=1000)\n",
        "model.fit(X_train, y_train)\n",
        "\n",
        "# 4. Predict probabilities for ROC-AUC\n",
        "y_probs = model.predict_proba(X_test)[:, 1]  # Probabilities for the positive class\n",
        "\n",
        "# 5. Calculate ROC-AUC score\n",
        "roc_auc = roc_auc_score(y_test, y_probs)\n",
        "print(f\"ROC-AUC Score: {roc_auc:.2f}\")\n",
        "\n",
        "# 6. Plot ROC curve\n",
        "fpr, tpr, thresholds = roc_curve(y_test, y_probs)\n",
        "\n",
        "plt.figure(figsize=(6, 4))\n",
        "plt.plot(fpr, tpr, label=f\"ROC Curve (AUC = {roc_auc:.2f})\")\n",
        "plt.plot([0, 1], [0, 1], linestyle='--', color='gray')  # Random chance line\n",
        "plt.xlabel('False Positive Rate')\n",
        "plt.ylabel('True Positive Rate')\n",
        "plt.title('ROC Curve - Logistic Regression')\n",
        "plt.legend()\n",
        "plt.grid(True)\n",
        "plt.tight_layout()\n",
        "plt.show()"
      ],
      "metadata": {
        "colab": {
          "base_uri": "https://localhost:8080/",
          "height": 424
        },
        "id": "9qspQm23F4T9",
        "outputId": "59ad1bb0-96df-46ef-92a0-b8adeaf8992d"
      },
      "execution_count": null,
      "outputs": [
        {
          "output_type": "stream",
          "name": "stdout",
          "text": [
            "ROC-AUC Score: 0.86\n"
          ]
        },
        {
          "output_type": "display_data",
          "data": {
            "text/plain": [
              "<Figure size 600x400 with 1 Axes>"
            ],
            "image/png": "[encoded data removed]"
          },
          "metadata": {}
        }
      ]
    },
    {
      "cell_type": "markdown",
      "source": [
        "**Q17. Write a Python program to train Logistic Regression using a custom learning rate (C=0.5) and evaluate accuracy?**"
      ],
      "metadata": {
        "id": "GT69Wtz6m4Dr"
      }
    },
    {
      "cell_type": "code",
      "source": [
        "from sklearn.datasets import load_iris\n",
        "from sklearn.linear_model import LogisticRegression\n",
        "from sklearn.model_selection import train_test_split\n",
        "from sklearn.metrics import accuracy_score\n",
        "\n",
        "# Load dataset (Iris for multiclass)\n",
        "data = load_iris()\n",
        "X, y = data.data, data.target\n",
        "\n",
        "# Split dataset\n",
        "X_train, X_test, y_train, y_test = train_test_split(\n",
        "    X, y, test_size=0.2, random_state=42\n",
        ")\n",
        "\n",
        "# Initialize Logistic Regression with C=0.5\n",
        "model = LogisticRegression(C=0.5, max_iter=1000)\n",
        "\n",
        "# Train model\n",
        "model.fit(X_train, y_train)\n",
        "\n",
        "# Predict on test set\n",
        "y_pred = model.predict(X_test)\n",
        "\n",
        "# Evaluate accuracy\n",
        "accuracy = accuracy_score(y_test, y_pred)\n",
        "print(f\"Accuracy with C=0.5: {accuracy:.2f}\")"
      ],
      "metadata": {
        "colab": {
          "base_uri": "https://localhost:8080/"
        },
        "id": "k9Xk0PPqGIfD",
        "outputId": "dd99b41e-3669-428a-e5c7-ff6035ee8fbc"
      },
      "execution_count": null,
      "outputs": [
        {
          "output_type": "stream",
          "name": "stdout",
          "text": [
            "Accuracy with C=0.5: 1.00\n"
          ]
        }
      ]
    },
    {
      "cell_type": "markdown",
      "source": [
        "**Q18. Write a Python program to train Logistic Regression and identify important features based on model coefficients?**"
      ],
      "metadata": {
        "id": "sglVwgQrnApH"
      }
    },
    {
      "cell_type": "code",
      "source": [
        "from sklearn.datasets import load_breast_cancer\n",
        "from sklearn.linear_model import LogisticRegression\n",
        "from sklearn.model_selection import train_test_split\n",
        "import numpy as np\n",
        "import pandas as pd\n",
        "\n",
        "# Load breast cancer dataset\n",
        "data = load_breast_cancer()\n",
        "X = data.data\n",
        "y = data.target\n",
        "feature_names = data.feature_names\n",
        "\n",
        "# Split data\n",
        "X_train, X_test, y_train, y_test = train_test_split(\n",
        "    X, y, test_size=0.2, random_state=42\n",
        ")\n",
        "\n",
        "# Train Logistic Regression\n",
        "model = LogisticRegression(max_iter=1000)\n",
        "model.fit(X_train, y_train)\n",
        "\n",
        "# Get coefficients\n",
        "coefficients = model.coef_[0]\n",
        "\n",
        "# Create DataFrame of feature importance\n",
        "feature_importance = pd.DataFrame({\n",
        "    'Feature': feature_names,\n",
        "    'Coefficient': coefficients,\n",
        "    'AbsCoefficient': np.abs(coefficients)\n",
        "})\n",
        "\n",
        "# Sort by absolute coefficient\n",
        "feature_importance = feature_importance.sort_values(by='AbsCoefficient', ascending=False)\n",
        "\n",
        "print(\"Feature importance based on Logistic Regression coefficients:\")\n",
        "print(feature_importance[['Feature', 'Coefficient']])"
      ],
      "metadata": {
        "colab": {
          "base_uri": "https://localhost:8080/"
        },
        "id": "XoILhOJUGWr3",
        "outputId": "40371c6f-4dee-4988-ae4a-6a475704effd"
      },
      "execution_count": null,
      "outputs": [
        {
          "output_type": "stream",
          "name": "stdout",
          "text": [
            "Feature importance based on Logistic Regression coefficients:\n",
            "                    Feature  Coefficient\n",
            "0               mean radius     2.099812\n",
            "26          worst concavity    -1.571347\n",
            "11            texture error     1.122469\n",
            "25        worst compactness    -1.004435\n",
            "20             worst radius     0.966303\n",
            "28           worst symmetry    -0.840956\n",
            "27     worst concave points    -0.693514\n",
            "6            mean concavity    -0.691207\n",
            "7       mean concave points    -0.408107\n",
            "5          mean compactness    -0.379844\n",
            "21            worst texture    -0.377126\n",
            "12          perimeter error    -0.325757\n",
            "24         worst smoothness    -0.317660\n",
            "8             mean symmetry    -0.235070\n",
            "4           mean smoothness    -0.170243\n",
            "1              mean texture     0.132486\n",
            "2            mean perimeter    -0.103468\n",
            "29  worst fractal dimension    -0.093083\n",
            "10             radius error    -0.085405\n",
            "13               area error    -0.065194\n",
            "15        compactness error     0.059602\n",
            "22          worst perimeter    -0.058583\n",
            "17     concave points error    -0.042776\n",
            "18           symmetry error    -0.041480\n",
            "23               worst area    -0.023960\n",
            "14         smoothness error    -0.023711\n",
            "9    mean fractal dimension    -0.023564\n",
            "19  fractal dimension error     0.014251\n",
            "16          concavity error     0.004522\n",
            "3                 mean area    -0.002556\n"
          ]
        }
      ]
    },
    {
      "cell_type": "markdown",
      "source": [
        "**Q19. Write a Python program to train Logistic Regression and evaluate its performance using Cohen’s Kappa Score?**"
      ],
      "metadata": {
        "id": "_HknNx8OnGdP"
      }
    },
    {
      "cell_type": "code",
      "source": [
        "from sklearn.datasets import make_classification\n",
        "from sklearn.linear_model import LogisticRegression\n",
        "from sklearn.model_selection import train_test_split\n",
        "from sklearn.metrics import cohen_kappa_score\n",
        "\n",
        "# 1. Generate synthetic binary classification data\n",
        "X, y = make_classification(\n",
        "    n_samples=1000, n_features=10, n_classes=2,\n",
        "    n_informative=5, random_state=42\n",
        ")\n",
        "\n",
        "# 2. Split dataset into train and test sets\n",
        "X_train, X_test, y_train, y_test = train_test_split(\n",
        "    X, y, test_size=0.2, random_state=42\n",
        ")\n",
        "\n",
        "# 3. Train Logistic Regression model\n",
        "model = LogisticRegression(max_iter=1000)\n",
        "model.fit(X_train, y_train)\n",
        "\n",
        "# 4. Predict on test set\n",
        "y_pred = model.predict(X_test)\n",
        "\n",
        "# 5. Calculate Cohen's Kappa Score\n",
        "kappa = cohen_kappa_score(y_test, y_pred)\n",
        "print(f\"Cohen's Kappa Score: {kappa:.2f}\")"
      ],
      "metadata": {
        "colab": {
          "base_uri": "https://localhost:8080/"
        },
        "id": "-rKwRLzdGidv",
        "outputId": "5029b048-8d3d-457f-9879-f81ecd215ffd"
      },
      "execution_count": null,
      "outputs": [
        {
          "output_type": "stream",
          "name": "stdout",
          "text": [
            "Cohen's Kappa Score: 0.67\n"
          ]
        }
      ]
    },
    {
      "cell_type": "markdown",
      "source": [
        "**Q20. Write a Python program to train Logistic Regression and visualize the Precision-Recall Curve for binary classification?**"
      ],
      "metadata": {
        "id": "Mg3uL2BTnMpT"
      }
    },
    {
      "cell_type": "code",
      "source": [
        "import matplotlib.pyplot as plt\n",
        "from sklearn.datasets import make_classification\n",
        "from sklearn.linear_model import LogisticRegression\n",
        "from sklearn.model_selection import train_test_split\n",
        "from sklearn.metrics import precision_recall_curve, average_precision_score\n",
        "\n",
        "# 1. Generate synthetic binary classification data\n",
        "X, y = make_classification(\n",
        "    n_samples=1000, n_features=10, n_classes=2,\n",
        "    weights=[0.7, 0.3], random_state=42\n",
        ")\n",
        "\n",
        "# 2. Split dataset into train and test sets\n",
        "X_train, X_test, y_train, y_test = train_test_split(\n",
        "    X, y, test_size=0.2, random_state=42, stratify=y\n",
        ")\n",
        "\n",
        "# 3. Train Logistic Regression\n",
        "model = LogisticRegression(max_iter=1000)\n",
        "model.fit(X_train, y_train)\n",
        "\n",
        "# 4. Predict probabilities for the positive class\n",
        "y_scores = model.predict_proba(X_test)[:, 1]\n",
        "\n",
        "# 5. Calculate precision, recall and thresholds\n",
        "precision, recall, thresholds = precision_recall_curve(y_test, y_scores)\n",
        "\n",
        "# 6. Calculate average precision score\n",
        "avg_precision = average_precision_score(y_test, y_scores)\n",
        "\n",
        "# 7. Plot Precision-Recall curve\n",
        "plt.figure(figsize=(6, 4))\n",
        "plt.plot(recall, precision, label=f'Average Precision = {avg_precision:.2f}')\n",
        "plt.xlabel('Recall')\n",
        "plt.ylabel('Precision')\n",
        "plt.title('Precision-Recall Curve')\n",
        "plt.legend()\n",
        "plt.grid(True)\n",
        "plt.tight_layout()\n",
        "plt.show()"
      ],
      "metadata": {
        "colab": {
          "base_uri": "https://localhost:8080/",
          "height": 407
        },
        "id": "DcC78DPwG0dQ",
        "outputId": "b348bca2-2b39-40b6-af78-d65e6ac0af94"
      },
      "execution_count": null,
      "outputs": [
        {
          "output_type": "display_data",
          "data": {
            "text/plain": [
              "<Figure size 600x400 with 1 Axes>"
            ],
            "image/png": "[encoded data removed]"
          },
          "metadata": {}
        }
      ]
    },
    {
      "cell_type": "markdown",
      "source": [
        "**Q21. Write a Python program to train Logistic Regression with different solvers (liblinear, saga, lbfgs) and compare their accuracy?**"
      ],
      "metadata": {
        "id": "x-uf-hqdnUDR"
      }
    },
    {
      "cell_type": "code",
      "source": [
        "from sklearn.datasets import make_classification\n",
        "from sklearn.linear_model import LogisticRegression\n",
        "from sklearn.model_selection import train_test_split\n",
        "from sklearn.metrics import accuracy_score\n",
        "from sklearn.preprocessing import StandardScaler\n",
        "import numpy as np\n",
        "\n",
        "# 1. Generate synthetic binary classification dataset\n",
        "X, y = make_classification(\n",
        "    n_samples=1000,\n",
        "    n_features=10,\n",
        "    n_informative=5,\n",
        "    n_redundant=2,\n",
        "    random_state=42\n",
        ")\n",
        "\n",
        "# 2. Artificially vary feature scales\n",
        "X *= np.array([1, 10, 100, 1, 10, 100, 1, 10, 100, 1])\n",
        "\n",
        "# 3. Train-test split\n",
        "X_train, X_test, y_train, y_test = train_test_split(\n",
        "    X, y, test_size=0.2, random_state=42\n",
        ")\n",
        "\n",
        "# 4. Feature scaling\n",
        "scaler = StandardScaler()\n",
        "X_train = scaler.fit_transform(X_train)\n",
        "X_test = scaler.transform(X_test)\n",
        "\n",
        "# 5. Solver and penalty combinations to compare\n",
        "configs = [\n",
        "    ('liblinear', 'l1'),\n",
        "    ('liblinear', 'l2'),\n",
        "    ('saga', 'l1'),\n",
        "    ('saga', 'l2'),\n",
        "    ('lbfgs', 'l2')\n",
        "]\n",
        "\n",
        "# 6. Store results\n",
        "accuracy_results = {}\n",
        "\n",
        "for solver, penalty in configs:\n",
        "    try:\n",
        "        model = LogisticRegression(\n",
        "            solver=solver,\n",
        "            penalty=penalty,\n",
        "            C=0.1,  # stronger regularization\n",
        "            max_iter=1000\n",
        "        )\n",
        "        model.fit(X_train, y_train)\n",
        "        y_pred = model.predict(X_test)\n",
        "        accuracy = accuracy_score(y_test, y_pred)\n",
        "        accuracy_results[f\"{solver}-{penalty}\"] = accuracy\n",
        "    except ValueError as e:\n",
        "        accuracy_results[f\"{solver}-{penalty}\"] = f\"Error: {e}\"\n",
        "\n",
        "# 7. Display results\n",
        "print(\"Logistic Regression Accuracy for Different Solvers and Penalties:\")\n",
        "for config, acc in accuracy_results.items():\n",
        "    print(f\"{config}: {acc}\")\n"
      ],
      "metadata": {
        "colab": {
          "base_uri": "https://localhost:8080/"
        },
        "id": "lfjynccxHIgh",
        "outputId": "48cb23b2-f35f-40f7-8d00-bd3708081f77"
      },
      "execution_count": null,
      "outputs": [
        {
          "output_type": "stream",
          "name": "stdout",
          "text": [
            "Logistic Regression Accuracy for Different Solvers and Penalties:\n",
            "liblinear-l1: 0.825\n",
            "liblinear-l2: 0.83\n",
            "saga-l1: 0.825\n",
            "saga-l2: 0.84\n",
            "lbfgs-l2: 0.84\n"
          ]
        }
      ]
    },
    {
      "cell_type": "markdown",
      "source": [
        "**Q22. Write a Python program to train Logistic Regression and evaluate its performance using Matthews Correlation Coefficient (MCC)?**"
      ],
      "metadata": {
        "id": "QMYp1zsWnbSx"
      }
    },
    {
      "cell_type": "code",
      "source": [
        "from sklearn.datasets import make_classification\n",
        "from sklearn.linear_model import LogisticRegression\n",
        "from sklearn.model_selection import train_test_split\n",
        "from sklearn.metrics import matthews_corrcoef\n",
        "\n",
        "# 1. Generate synthetic binary classification data\n",
        "X, y = make_classification(\n",
        "    n_samples=1000, n_features=10, n_informative=5, random_state=42\n",
        ")\n",
        "\n",
        "# 2. Split into training and test sets\n",
        "X_train, X_test, y_train, y_test = train_test_split(\n",
        "    X, y, test_size=0.2, random_state=42\n",
        ")\n",
        "\n",
        "# 3. Train Logistic Regression model\n",
        "model = LogisticRegression(max_iter=1000)\n",
        "model.fit(X_train, y_train)\n",
        "\n",
        "# 4. Predict on test set\n",
        "y_pred = model.predict(X_test)\n",
        "\n",
        "# 5. Calculate Matthews Correlation Coefficient\n",
        "mcc = matthews_corrcoef(y_test, y_pred)\n",
        "print(f\"Matthews Correlation Coefficient (MCC): {mcc:.3f}\")"
      ],
      "metadata": {
        "colab": {
          "base_uri": "https://localhost:8080/"
        },
        "id": "IlgwazWbHStm",
        "outputId": "6c2d05e5-fccd-473d-fe78-8188799e9c94"
      },
      "execution_count": null,
      "outputs": [
        {
          "output_type": "stream",
          "name": "stdout",
          "text": [
            "Matthews Correlation Coefficient (MCC): 0.666\n"
          ]
        }
      ]
    },
    {
      "cell_type": "markdown",
      "source": [
        "**Q23. Write a Python program to train Logistic Regression on both raw and standardized data. Compare their accuracy to see the impact of feature scaling?**"
      ],
      "metadata": {
        "id": "-W13Z9nDnhAH"
      }
    },
    {
      "cell_type": "code",
      "source": [
        "from sklearn.datasets import make_classification\n",
        "from sklearn.linear_model import LogisticRegression\n",
        "from sklearn.model_selection import train_test_split\n",
        "from sklearn.preprocessing import StandardScaler\n",
        "from sklearn.metrics import accuracy_score\n",
        "import numpy as np\n",
        "\n",
        "# 1. Generate synthetic dataset\n",
        "X, y = make_classification(\n",
        "    n_samples=1000,\n",
        "    n_features=10,\n",
        "    n_informative=5,\n",
        "    n_redundant=2,\n",
        "    random_state=42\n",
        ")\n",
        "\n",
        "# 2. Artificially scale features to simulate real-world imbalance\n",
        "scaling_factors = np.array([1, 10, 100, 1, 10, 100, 1, 10, 100, 1])\n",
        "X *= scaling_factors\n",
        "\n",
        "# 3. Split dataset into training and test sets\n",
        "X_train, X_test, y_train, y_test = train_test_split(\n",
        "    X, y, test_size=0.2, random_state=42\n",
        ")\n",
        "\n",
        "# --- Without scaling ---\n",
        "model_raw = LogisticRegression(max_iter=1000, C=0.1)\n",
        "model_raw.fit(X_train, y_train)\n",
        "y_pred_raw = model_raw.predict(X_test)\n",
        "acc_raw = accuracy_score(y_test, y_pred_raw)\n",
        "\n",
        "# --- With standardization ---\n",
        "scaler = StandardScaler()\n",
        "X_train_scaled = scaler.fit_transform(X_train)\n",
        "X_test_scaled = scaler.transform(X_test)\n",
        "\n",
        "model_scaled = LogisticRegression(max_iter=1000, C=0.1)\n",
        "model_scaled.fit(X_train_scaled, y_train)\n",
        "y_pred_scaled = model_scaled.predict(X_test_scaled)\n",
        "acc_scaled = accuracy_score(y_test, y_pred_scaled)\n",
        "\n",
        "# 4. Print and compare results\n",
        "print(\"=== Logistic Regression Accuracy Comparison ===\")\n",
        "print(\"Accuracy without feature scaling: {:.3f}\".format(acc_raw))\n",
        "print(\"Accuracy with standardization:   {:.3f}\".format(acc_scaled))\n"
      ],
      "metadata": {
        "colab": {
          "base_uri": "https://localhost:8080/"
        },
        "id": "v2TmM-b3H3Uc",
        "outputId": "04a6893e-9d61-4694-ca43-a8d7d6e8d690"
      },
      "execution_count": null,
      "outputs": [
        {
          "output_type": "stream",
          "name": "stdout",
          "text": [
            "=== Logistic Regression Accuracy Comparison ===\n",
            "Accuracy without feature scaling: 0.845\n",
            "Accuracy with standardization:   0.840\n"
          ]
        }
      ]
    },
    {
      "cell_type": "markdown",
      "source": [
        "**Q24. Write a Python program to train Logistic Regression and find the optimal C (regularization strength) using cross-validation?**"
      ],
      "metadata": {
        "id": "FHrqolgqnldQ"
      }
    },
    {
      "cell_type": "code",
      "source": [
        "from sklearn.datasets import make_classification\n",
        "from sklearn.linear_model import LogisticRegression\n",
        "from sklearn.model_selection import GridSearchCV, train_test_split\n",
        "from sklearn.metrics import accuracy_score\n",
        "\n",
        "# 1. Generate synthetic dataset\n",
        "X, y = make_classification(\n",
        "    n_samples=1000, n_features=10, n_informative=5, random_state=42\n",
        ")\n",
        "\n",
        "# 2. Split data\n",
        "X_train, X_test, y_train, y_test = train_test_split(\n",
        "    X, y, test_size=0.2, random_state=42\n",
        ")\n",
        "\n",
        "# 3. Define Logistic Regression model\n",
        "model = LogisticRegression(max_iter=1000)\n",
        "\n",
        "# 4. Define grid of C values to search\n",
        "param_grid = {'C': [0.01, 0.1, 0.5, 1, 5, 10, 50]}\n",
        "\n",
        "# 5. Setup GridSearchCV\n",
        "grid_search = GridSearchCV(\n",
        "    estimator=model,\n",
        "    param_grid=param_grid,\n",
        "    cv=5,\n",
        "    scoring='accuracy',\n",
        "    n_jobs=-1\n",
        ")\n",
        "\n",
        "# 6. Run GridSearchCV\n",
        "grid_search.fit(X_train, y_train)\n",
        "\n",
        "# 7. Best hyperparameter C\n",
        "best_C = grid_search.best_params_['C']\n",
        "print(f\"Best C: {best_C}\")\n",
        "\n",
        "# 8. Evaluate on test set\n",
        "best_model = grid_search.best_estimator_\n",
        "y_pred = best_model.predict(X_test)\n",
        "acc = accuracy_score(y_test, y_pred)\n",
        "print(f\"Test set accuracy with best C: {acc:.3f}\")"
      ],
      "metadata": {
        "colab": {
          "base_uri": "https://localhost:8080/"
        },
        "id": "fA-Gftm9ID4U",
        "outputId": "559ff8b3-5139-4470-adbf-f41128f407c6"
      },
      "execution_count": null,
      "outputs": [
        {
          "output_type": "stream",
          "name": "stdout",
          "text": [
            "Best C: 0.01\n",
            "Test set accuracy with best C: 0.830\n"
          ]
        }
      ]
    },
    {
      "cell_type": "markdown",
      "source": [
        "**Q25. Write a Python program to train Logistic Regression, save the trained model using joblib, and load it again to make predictions?**"
      ],
      "metadata": {
        "id": "6HwgxA70npvM"
      }
    },
    {
      "cell_type": "code",
      "source": [
        "from sklearn.datasets import make_classification\n",
        "from sklearn.linear_model import LogisticRegression\n",
        "from sklearn.model_selection import train_test_split\n",
        "from sklearn.metrics import accuracy_score\n",
        "import joblib  # for saving and loading models\n",
        "\n",
        "# 1. Generate synthetic dataset\n",
        "X, y = make_classification(n_samples=1000, n_features=10, random_state=42)\n",
        "\n",
        "# 2. Split dataset into train and test\n",
        "X_train, X_test, y_train, y_test = train_test_split(\n",
        "    X, y, test_size=0.2, random_state=42\n",
        ")\n",
        "\n",
        "# 3. Train Logistic Regression model\n",
        "model = LogisticRegression(max_iter=1000)\n",
        "model.fit(X_train, y_train)\n",
        "\n",
        "# 4. Save the trained model to a file\n",
        "model_filename = 'logistic_regression_model.joblib'\n",
        "joblib.dump(model, model_filename)\n",
        "print(f\"Model saved to {model_filename}\")\n",
        "\n",
        "# --- Later or elsewhere in your code ---\n",
        "\n",
        "# 5. Load the saved model\n",
        "loaded_model = joblib.load(model_filename)\n",
        "print(\"Model loaded from disk.\")\n",
        "\n",
        "# 6. Make predictions using loaded model\n",
        "y_pred = loaded_model.predict(X_test)\n",
        "\n",
        "# 7. Evaluate accuracy\n",
        "accuracy = accuracy_score(y_test, y_pred)\n",
        "print(f\"Accuracy of loaded model: {accuracy:.3f}\")"
      ],
      "metadata": {
        "colab": {
          "base_uri": "https://localhost:8080/"
        },
        "id": "_8rXYeX7IX_g",
        "outputId": "ae567722-11c2-4ee3-a351-be126aac7aac"
      },
      "execution_count": null,
      "outputs": [
        {
          "output_type": "stream",
          "name": "stdout",
          "text": [
            "Model saved to logistic_regression_model.joblib\n",
            "Model loaded from disk.\n",
            "Accuracy of loaded model: 0.830\n"
          ]
        }
      ]
    }
  ]
}